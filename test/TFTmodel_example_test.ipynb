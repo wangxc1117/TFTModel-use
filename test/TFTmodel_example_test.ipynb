{
 "cells": [
  {
   "cell_type": "code",
   "execution_count": 1,
   "id": "eef7fe4f",
   "metadata": {},
   "outputs": [],
   "source": [
    "import os\n",
    "import numpy as np\n",
    "import pandas as pd\n",
    "import xarray as xr\n",
    "from tqdm import tqdm"
   ]
  },
  {
   "cell_type": "code",
   "execution_count": 2,
   "id": "19e9533b",
   "metadata": {},
   "outputs": [
    {
     "name": "stdout",
     "output_type": "stream",
     "text": [
      "Data folder found: nc4\n"
     ]
    },
    {
     "name": "stderr",
     "output_type": "stream",
     "text": [
      "Combining: 100%|██████████| 14/14 [00:02<00:00,  5.46it/s]"
     ]
    },
    {
     "name": "stdout",
     "output_type": "stream",
     "text": [
      "Combined data shape: (336, 361, 576)\n"
     ]
    },
    {
     "name": "stderr",
     "output_type": "stream",
     "text": [
      "\n"
     ]
    }
   ],
   "source": [
    "def check_data_folder(folder):\n",
    "    return os.path.exists(folder) and os.path.isdir(folder)\n",
    "\n",
    "def generate_date_range(start_date, end_date):\n",
    "    \"\"\"\n",
    "    Generate a list of dates from start_date to end_date.\n",
    "    \"\"\"\n",
    "    return pd.date_range(start=start_date, end=end_date, freq='D').strftime('%Y%m%d').tolist()\n",
    "\n",
    "def load_data(file_path):\n",
    "    \"\"\"\n",
    "    Load data from a NetCDF file.\n",
    "    \"\"\"\n",
    "    if os.path.exists(file_path):\n",
    "        return xr.open_dataset(file_path)\n",
    "    else:\n",
    "        raise FileNotFoundError(f'File not found: {file_path}')\n",
    "\n",
    "\n",
    "# main program\n",
    "## check data folder\n",
    "data_folder = f'nc4'\n",
    "if check_data_folder(data_folder):\n",
    "    print(f'Data folder found: {data_folder}')\n",
    "else:\n",
    "    raise FileNotFoundError(f'Data folder not found: {data_folder}')\n",
    "\n",
    "## load data\n",
    "start_date = '2024-01-01'\n",
    "end_date = '2024-01-14'\n",
    "date_list = generate_date_range(start_date, end_date)\n",
    "\n",
    "## get location and shape\n",
    "path = os.path.join(data_folder, f'M2T1NXFLX.5.12.4%3AMERRA2_400.tavg1_2d_flx_Nx.{date_list[0]}.nc4.dap.nc4')\n",
    "nc4_data = load_data(path)\n",
    "lat = nc4_data['lat'].values\n",
    "lon = nc4_data['lon'].values\n",
    "shape = nc4_data['TLML'].shape\n",
    "total_locations = shape[1] * shape[2]\n",
    "\n",
    "## combine data\n",
    "# 預先讀取第一個檔案以取得 shape 資訊\n",
    "sample_path = os.path.join(data_folder, f'M2T1NXFLX.5.12.4%3AMERRA2_400.tavg1_2d_flx_Nx.{date_list[0]}.nc4.dap.nc4')\n",
    "sample_data = load_data(sample_path)\n",
    "shape_per_file = sample_data['TLML'].shape   # e.g. (24, 361, 576)\n",
    "time_per_file = len(sample_data['time'])\n",
    "\n",
    "# 預先配置 array（假設每天 24 筆資料）\n",
    "total_samples = len(date_list)\n",
    "combined = np.empty((total_samples * shape_per_file[0], *shape_per_file[1:]), dtype=np.float32)\n",
    "time_list = np.empty(total_samples * time_per_file, dtype=sample_data['time'].dtype)\n",
    "\n",
    "# 批次載入並填入預分配的 array\n",
    "for i, date in enumerate(tqdm(date_list, desc=\"Combining\")):\n",
    "    path = os.path.join(data_folder, f'M2T1NXFLX.5.12.4%3AMERRA2_400.tavg1_2d_flx_Nx.{date}.nc4.dap.nc4')\n",
    "    nc4_data = load_data(path)\n",
    "\n",
    "    start = i * shape_per_file[0]\n",
    "    end = (i + 1) * shape_per_file[0]\n",
    "\n",
    "    combined[start:end] = nc4_data['TLML'].values\n",
    "    time_list[start:end] = nc4_data['time'].values\n",
    "\n",
    "print(f'Combined data shape: {combined.shape}')"
   ]
  },
  {
   "cell_type": "code",
   "execution_count": 13,
   "id": "a15047b1",
   "metadata": {},
   "outputs": [],
   "source": [
    "# to Rcode y1 cell × time\n",
    "ntot, nlat, nlon = combined.shape\n",
    "ncell = nlat * nlon\n",
    "y1 = combined.reshape(ntot, ncell).T\n",
    "\n",
    "# to Rcode gg cell × (lon, lat)\n",
    "lon_grid, lat_grid = np.meshgrid(lon, lat)\n",
    "gg = np.vstack([lon_grid.ravel(), lat_grid.ravel()]).T\n",
    "\n",
    "m = 5000\n",
    "np.random.seed(123)\n",
    "all_idx  = np.arange(ncell)\n",
    "pickm    = np.random.choice(all_idx, size=m,   replace=False)\n"
   ]
  },
  {
   "cell_type": "code",
   "execution_count": 14,
   "id": "d84cc8e6",
   "metadata": {},
   "outputs": [
    {
     "data": {
      "text/plain": [
       "(5000,)"
      ]
     },
     "execution_count": 14,
     "metadata": {},
     "output_type": "execute_result"
    }
   ],
   "source": [
    "pickm.shape"
   ]
  }
 ],
 "metadata": {
  "kernelspec": {
   "display_name": "Python 3",
   "language": "python",
   "name": "python3"
  },
  "language_info": {
   "codemirror_mode": {
    "name": "ipython",
    "version": 3
   },
   "file_extension": ".py",
   "mimetype": "text/x-python",
   "name": "python",
   "nbconvert_exporter": "python",
   "pygments_lexer": "ipython3",
   "version": "3.12.0"
  }
 },
 "nbformat": 4,
 "nbformat_minor": 5
}
