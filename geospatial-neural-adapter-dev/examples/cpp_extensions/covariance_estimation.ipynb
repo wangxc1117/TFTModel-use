{
 "cells": [
  {
   "cell_type": "markdown",
   "metadata": {},
   "source": [
    "# Covariance Estimation Demo"
   ]
  },
  {
   "cell_type": "code",
   "execution_count": null,
   "metadata": {},
   "outputs": [],
   "source": [
    "import numpy as np\n",
    "import matplotlib.pyplot as plt\n",
    "from geospatial_neural_adapter.cpp_extensions import spatial_utils"
   ]
  },
  {
   "cell_type": "code",
   "execution_count": null,
   "metadata": {},
   "outputs": [],
   "source": [
    "print(\"Available functions in spatial_utils:\")\n",
    "for attr in dir(spatial_utils):\n",
    "    if not attr.startswith('_'):\n",
    "        print(f\"  - {attr}\")"
   ]
  },
  {
   "cell_type": "markdown",
   "metadata": {},
   "source": [
    "### Estimate Covariance"
   ]
  },
  {
   "cell_type": "code",
   "execution_count": null,
   "metadata": {},
   "outputs": [],
   "source": [
    "# Example for estimate_covariance function\n",
    "print(\"Demonstrating estimate_covariance...\")\n",
    "\n",
    "# Create repeated observations at the same locations\n",
    "n_obs = 10  # number of repeated observations\n",
    "n_locations = 50  # number of locations\n",
    "np.random.seed(42)\n",
    "n_points = 50\n",
    "\n",
    "# Create random spatial locations\n",
    "x = np.random.uniform(0, 10, n_points)\n",
    "y = np.random.uniform(0, 10, n_points)\n",
    "locations = np.column_stack([x, y])\n",
    "\n",
    "# Create n x p matrix: n observations x p locations\n",
    "Y = np.zeros((n_obs, n_locations))\n",
    "\n",
    "# Generate repeated observations at each location\n",
    "for i in range(n_obs):\n",
    "    # Add some spatial correlation and noise\n",
    "    spatial_trend = 2 * np.sin(locations[:, 0]/2) + 1.5 * np.cos(locations[:, 1]/3)\n",
    "    noise = np.random.normal(0, 0.3, n_locations)\n",
    "    Y[i, :] = spatial_trend + noise\n",
    "\n",
    "print(f\"Y shape: {Y.shape}\")  # Should be (10, 50)\n",
    "\n",
    "# Create basis functions (phi) for the locations\n",
    "# phi should be p x k where p = number of locations, k = number of basis functions\n",
    "n_basis = 7\n",
    "phi = np.zeros((n_locations, n_basis))\n",
    "\n",
    "# Create spatial basis functions\n",
    "for j in range(n_basis):\n",
    "    if j < 2:\n",
    "        phi[:, j] = locations[:, j]  # x, y coordinates\n",
    "    elif j < 4:\n",
    "        phi[:, j] = locations[:, j-2]**2  # x^2, y^2\n",
    "    elif j < 6:\n",
    "        phi[:, j] = np.sin(locations[:, j-4])  # sin(x), sin(y)\n",
    "    else:\n",
    "        phi[:, j] = np.cos(locations[:, j-6])  # cos(x)\n",
    "\n",
    "print(f\"phi shape: {phi.shape}\")  # Should be (50, 7)\n",
    "\n",
    "result = spatial_utils.estimate_covariance(phi, Y)\n",
    "print(\"C++ returned a dictionary with keys:\")\n",
    "for key, value in result.items():\n",
    "    if hasattr(value, 'shape'):\n",
    "        print(f\"  {key}: shape {value.shape}\")\n",
    "    else:\n",
    "        print(f\"  {key}: {type(value)}\")\n",
    "\n",
    "covariance_matrix = result['estimated_covariance']\n",
    "print(f\"C++ Covariance matrix shape: {covariance_matrix.shape}\")\n",
    "print(f\"C++ Covariance range: [{covariance_matrix.min():.3f}, {covariance_matrix.max():.3f}]\")\n"
   ]
  }
 ],
 "metadata": {
  "kernelspec": {
   "display_name": "geospatial-neural-adapter",
   "language": "python",
   "name": "python3"
  },
  "language_info": {
   "codemirror_mode": {
    "name": "ipython",
    "version": 3
   },
   "file_extension": ".py",
   "mimetype": "text/x-python",
   "name": "python",
   "nbconvert_exporter": "python",
   "pygments_lexer": "ipython3",
   "version": "3.10.13"
  }
 },
 "nbformat": 4,
 "nbformat_minor": 4
}
