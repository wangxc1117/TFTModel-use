{
 "cells": [
  {
   "cell_type": "markdown",
   "id": "d9900cd2",
   "metadata": {},
   "source": [
    "# Thin Plate Spline Demo\n",
    "\n",
    "Simple demonstration of thin plate spline interpolation."
   ]
  },
  {
   "cell_type": "code",
   "execution_count": null,
   "id": "8607e70d",
   "metadata": {},
   "outputs": [],
   "source": [
    "import numpy as np\n",
    "import matplotlib.pyplot as plt\n",
    "from scipy.interpolate import griddata\n",
    "from geospatial_neural_adapter.cpp_extensions import thin_plate_spline"
   ]
  },
  {
   "cell_type": "markdown",
   "id": "94ee69de",
   "metadata": {},
   "source": [
    "### 1D Example"
   ]
  },
  {
   "cell_type": "code",
   "execution_count": null,
   "id": "f2eb7bae",
   "metadata": {},
   "outputs": [],
   "source": [
    "num_locations = 100\n",
    "x_1D = np.linspace(0, 1, num_locations)\n",
    "true_y = np.sin(2 * np.pi * x_1D)\n",
    "noise = np.random.normal(0, 0.2, num_locations) \n",
    "y_values = true_y + noise\n",
    "\n",
    "smoothing_penalty_matrix = thin_plate_spline.smoothing_penalty_matrix(x_1D)"
   ]
  },
  {
   "cell_type": "code",
   "execution_count": null,
   "id": "451c9bb8",
   "metadata": {},
   "outputs": [],
   "source": [
    "lambda_values = [0, 1e-2, 1e8]\n",
    "\n",
    "plt.figure(figsize=(10, 6))\n",
    "plt.plot(x_1D, y_values, 'o-', label=\"Noisy Data (y)\", markersize=8, linewidth=2, alpha=0.7)\n",
    "plt.plot(x_1D, true_y, 'k--', label=\"True Function\", linewidth=3)\n",
    "\n",
    "for lambda_smoothing in lambda_values:\n",
    "    identity_matrix = np.eye(num_locations)\n",
    "    g_values = np.linalg.solve(identity_matrix + lambda_smoothing * smoothing_penalty_matrix, y_values)\n",
    "    \n",
    "    plt.plot(x_1D, g_values, label=f\"Smoothed (λ = {lambda_smoothing})\", linewidth=2)\n",
    "\n",
    "plt.title(\"Effect of Smoothing (g) for Different λ with Noisy Data\")\n",
    "plt.xlabel(\"X\")\n",
    "plt.ylabel(\"Values\")\n",
    "plt.legend()\n",
    "plt.grid(True)\n",
    "plt.show()"
   ]
  },
  {
   "cell_type": "markdown",
   "id": "4a801109",
   "metadata": {},
   "source": [
    "### 3D Example"
   ]
  },
  {
   "cell_type": "code",
   "execution_count": null,
   "id": "5f5fdd9a",
   "metadata": {},
   "outputs": [],
   "source": [
    "# Generate sample data\n",
    "np.random.seed(42)\n",
    "n_points = 20\n",
    "\n",
    "x = np.random.uniform(0, 10, n_points)\n",
    "y = np.random.uniform(0, 10, n_points)\n",
    "z = 2 * np.sin(x/2) + 1.5 * np.cos(y/3) + 0.3 * np.random.normal(0, 1, n_points)\n",
    "\n",
    "print(f\"Generated {n_points} data points\")\n",
    "\n",
    "# Create interpolation grid\n",
    "xi = np.linspace(0, 10, 50)\n",
    "yi = np.linspace(0, 10, 50)\n",
    "xi_grid, yi_grid = np.meshgrid(xi, yi)\n",
    "zi = griddata((x, y), z, (xi_grid, yi_grid), method=\"cubic\")"
   ]
  },
  {
   "cell_type": "code",
   "execution_count": null,
   "id": "4bf410d6",
   "metadata": {},
   "outputs": [],
   "source": [
    "# Plot interpolated surface\n",
    "plt.figure(figsize=(10, 8))\n",
    "plt.contourf(xi_grid, yi_grid, zi, levels=20, cmap=\"viridis\")\n",
    "plt.scatter(x, y, c=\"red\", s=50, label=\"Data points\")\n",
    "plt.colorbar(label=\"Interpolated Z\")\n",
    "plt.xlabel(\"X\")\n",
    "plt.ylabel(\"Y\")\n",
    "plt.title(\"Thin Plate Spline Interpolation\")\n",
    "plt.legend()\n",
    "plt.show()"
   ]
  },
  {
   "cell_type": "code",
   "execution_count": null,
   "id": "63e36f03",
   "metadata": {},
   "outputs": [],
   "source": [
    "# 3D surface plot\n",
    "fig = plt.figure(figsize=(12, 5))\n",
    "\n",
    "ax1 = fig.add_subplot(121, projection=\"3d\")\n",
    "ax1.scatter(x, y, z, c=z, cmap=\"viridis\", s=50)\n",
    "ax1.set_title(\"Original Data (3D)\")\n",
    "\n",
    "ax2 = fig.add_subplot(122, projection=\"3d\")\n",
    "surf = ax2.plot_surface(xi_grid, yi_grid, zi, cmap=\"viridis\", alpha=0.8)\n",
    "ax2.scatter(x, y, z, c=\"red\", s=30)\n",
    "ax2.set_title(\"Interpolated Surface (3D)\")\n",
    "\n",
    "plt.tight_layout()\n",
    "plt.show()"
   ]
  }
 ],
 "metadata": {
  "kernelspec": {
   "display_name": "geospatial-neural-adapter",
   "language": "python",
   "name": "python3"
  },
  "language_info": {
   "codemirror_mode": {
    "name": "ipython",
    "version": 3
   },
   "file_extension": ".py",
   "mimetype": "text/x-python",
   "name": "python",
   "nbconvert_exporter": "python",
   "pygments_lexer": "ipython3",
   "version": "3.10.13"
  }
 },
 "nbformat": 4,
 "nbformat_minor": 5
}
