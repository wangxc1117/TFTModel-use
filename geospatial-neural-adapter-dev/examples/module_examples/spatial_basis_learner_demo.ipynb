{
 "cells": [
  {
   "cell_type": "markdown",
   "metadata": {},
   "source": [
    "# Spatial Basis Denoising Demo\n",
    "\n",
    "Simple demo showing how the `SpatialBasisLearner` can denoise spatial data."
   ]
  },
  {
   "cell_type": "code",
   "execution_count": null,
   "metadata": {},
   "outputs": [],
   "source": [
    "import numpy as np\n",
    "import torch\n",
    "import matplotlib.pyplot as plt\n",
    "\n",
    "from geospatial_neural_adapter.models.spatial_basis_learner import (\n",
    "    SpatialBasisLearner, \n",
    "    train_spatial_basis\n",
    ")\n",
    "\n",
    "print(\"✅ Imports successful!\")"
   ]
  },
  {
   "cell_type": "markdown",
   "metadata": {},
   "source": [
    "## Generate Noisy Data"
   ]
  },
  {
   "cell_type": "code",
   "execution_count": null,
   "metadata": {},
   "outputs": [],
   "source": [
    "# Create clean spatial patterns\n",
    "n_locations = 50\n",
    "locations = torch.linspace(-3, 3, n_locations)\n",
    "\n",
    "# Clean patterns\n",
    "pattern1 = torch.exp(-(locations - 0.5)**2)  # Gaussian\n",
    "pattern2 = torch.sin(locations * 2)          # Sine\n",
    "\n",
    "# Generate clean data\n",
    "n_samples = 100\n",
    "clean_data = torch.zeros(n_samples, n_locations)\n",
    "for i in range(n_samples):\n",
    "    w1, w2 = torch.randn(2) * 2\n",
    "    clean_data[i] = w1 * pattern1 + w2 * pattern2\n",
    "\n",
    "# Add noise\n",
    "noisy_data = clean_data + torch.randn_like(clean_data) * 0.3\n",
    "\n",
    "print(f\"Clean data: {clean_data.shape}\")\n",
    "print(f\"Noisy data: {noisy_data.shape}\")"
   ]
  },
  {
   "cell_type": "markdown",
   "metadata": {},
   "source": [
    "## Denoise with Spatial Basis Learner"
   ]
  },
  {
   "cell_type": "code",
   "execution_count": null,
   "metadata": {},
   "outputs": [],
   "source": [
    "# Initialize and train\n",
    "spatial_learner = SpatialBasisLearner(n_locations, latent_dim=2)\n",
    "\n",
    "train_spatial_basis(\n",
    "    model=spatial_learner,\n",
    "    targets=noisy_data,\n",
    "    epochs=3000,\n",
    "    verbose=False,\n",
    "    tau1=.01,\n",
    "    tau2=.01,\n",
    ")\n",
    "\n",
    "# Denoise\n",
    "with torch.no_grad():\n",
    "    denoised_data = spatial_learner(noisy_data)\n",
    "\n",
    "print(\"✅ Denoising complete!\")"
   ]
  },
  {
   "cell_type": "markdown",
   "metadata": {},
   "source": [
    "## Compare Results"
   ]
  },
  {
   "cell_type": "code",
   "execution_count": null,
   "metadata": {},
   "outputs": [],
   "source": [
    "# Calculate improvement\n",
    "noise_mse = torch.mean((noisy_data - clean_data)**2)\n",
    "denoised_mse = torch.mean((denoised_data - clean_data)**2)\n",
    "improvement = (noise_mse - denoised_mse) / noise_mse * 100\n",
    "\n",
    "print(f\"Noise MSE: {noise_mse:.4f}\")\n",
    "print(f\"Denoised MSE: {denoised_mse:.4f}\")\n",
    "print(f\"Improvement: {improvement:.1f}%\")\n",
    "\n",
    "# Plot results\n",
    "plt.figure(figsize=(15, 4))\n",
    "\n",
    "# Sample comparison\n",
    "plt.subplot(1, 4, 1)\n",
    "plt.plot(locations, clean_data[0], 'g-', label='Clean', linewidth=2)\n",
    "plt.plot(locations, noisy_data[0], 'r.', label='Noisy', alpha=0.6)\n",
    "plt.plot(locations, denoised_data[0], 'b--', label='Denoised', linewidth=2)\n",
    "plt.title('Sample Comparison')\n",
    "plt.legend()\n",
    "plt.grid(True, alpha=0.3)\n",
    "\n",
    "# True patterns\n",
    "plt.subplot(1, 4, 2)\n",
    "plt.plot(locations, pattern1, 'g-', label='Gaussian', linewidth=2)\n",
    "plt.plot(locations, pattern2, 'r-', label='Sine', linewidth=2)\n",
    "plt.title('True Patterns')\n",
    "plt.legend()\n",
    "plt.grid(True, alpha=0.3)\n",
    "\n",
    "# Learned basis\n",
    "plt.subplot(1, 4, 3)\n",
    "basis = spatial_learner.basis.detach()\n",
    "for i in range(basis.shape[1]):\n",
    "    plt.plot(locations, basis[:, i], '--', label=f'Learned {i+1}', alpha=0.8)\n",
    "plt.title('Learned Basis')\n",
    "plt.legend()\n",
    "plt.grid(True, alpha=0.3)\n",
    "\n",
    "# MSE comparison\n",
    "plt.subplot(1, 4, 4)\n",
    "mse_noise = torch.mean((noisy_data - clean_data)**2, dim=1)\n",
    "mse_denoised = torch.mean((denoised_data - clean_data)**2, dim=1)\n",
    "plt.scatter(mse_noise, mse_denoised, alpha=0.6)\n",
    "plt.plot([0, mse_noise.max()], [0, mse_noise.max()], 'r--')\n",
    "plt.xlabel('Noise MSE')\n",
    "plt.ylabel('Denoised MSE')\n",
    "plt.title('MSE Comparison')\n",
    "plt.grid(True, alpha=0.3)\n",
    "\n",
    "plt.tight_layout()\n",
    "plt.show()"
   ]
  }
 ],
 "metadata": {
  "kernelspec": {
   "display_name": "geospatial-neural-adapter",
   "language": "python",
   "name": "python3"
  },
  "language_info": {
   "codemirror_mode": {
    "name": "ipython",
    "version": 3
   },
   "file_extension": ".py",
   "mimetype": "text/x-python",
   "name": "python",
   "nbconvert_exporter": "python",
   "pygments_lexer": "ipython3",
   "version": "3.10.13"
  }
 },
 "nbformat": 4,
 "nbformat_minor": 4
}
