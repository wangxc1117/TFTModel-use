{
 "cells": [
  {
   "cell_type": "markdown",
   "metadata": {},
   "source": [
    "# Data Generation Demo\n",
    "\n",
    "This notebook demonstrates the new modular data generation structure for the geospatial neural adapter.\n",
    "\n",
    "## Overview\n",
    "\n",
    "The package now has a clean, modular structure:\n",
    "- `data.generators`: Synthetic data generation functions\n",
    "- `data.preprocessing`: Data preprocessing utilities\n",
    "- `metrics`: Evaluation metrics\n",
    "\n",
    "This replaces the old monolithic `utils.py` approach."
   ]
  },
  {
   "cell_type": "code",
   "execution_count": null,
   "metadata": {},
   "outputs": [],
   "source": [
    "import numpy as np\n",
    "import matplotlib.pyplot as plt\n",
    "\n",
    "# Import from the new modular structure\n",
    "from geospatial_neural_adapter.data.generators import (\n",
    "    generate_combined_synthetic_data,\n",
    "    generate_time_synthetic_data,\n",
    ")\n",
    "from geospatial_neural_adapter.data.preprocessing import prepare_all\n",
    "from geospatial_neural_adapter.metrics import fusion_score, frobenius_norm\n",
    "\n",
    "print(\"✅ All imports successful!\")"
   ]
  },
  {
   "cell_type": "markdown",
   "metadata": {},
   "source": [
    "## Example 1: Generate Combined Synthetic Data\n",
    "\n",
    "Generate synthetic data with combined trend and spatial components."
   ]
  },
  {
   "cell_type": "code",
   "execution_count": null,
   "metadata": {},
   "outputs": [],
   "source": [
    "# Generate combined synthetic data\n",
    "N = 100\n",
    "n_samples = 50\n",
    "locations = np.linspace(-3, 3, N)\n",
    "\n",
    "cat_features, cont_features, targets = generate_combined_synthetic_data(\n",
    "    location=locations,\n",
    "    n_samples=n_samples,\n",
    "    noise_std=1.0,\n",
    "    eigenvalue=0.5,\n",
    "    seed=42\n",
    ")\n",
    "\n",
    "print(\"Generated data shapes:\")\n",
    "print(f\"  Categorical features: {cat_features.shape}\")\n",
    "print(f\"  Continuous features: {cont_features.shape}\")\n",
    "print(f\"  Targets: {targets.shape}\")\n",
    "\n",
    "# Show some statistics\n",
    "print(f\"\\nTarget statistics:\")\n",
    "print(f\"  Mean: {targets.mean():.3f}\")\n",
    "print(f\"  Std: {targets.std():.3f}\")\n",
    "print(f\"  Min: {targets.min():.3f}\")\n",
    "print(f\"  Max: {targets.max():.3f}\")"
   ]
  },
  {
   "cell_type": "markdown",
   "metadata": {},
   "source": [
    "## Example 2: Generate Temporal Synthetic Data\n",
    "\n",
    "Generate synthetic temporal data with spatial correlation."
   ]
  },
  {
   "cell_type": "code",
   "execution_count": null,
   "metadata": {},
   "outputs": [],
   "source": [
    "# Generate temporal synthetic data\n",
    "T = 200\n",
    "cat_temporal, cont_temporal, targets_temporal = generate_time_synthetic_data(\n",
    "    locs=locations,\n",
    "    n_time_steps=T,\n",
    "    noise_std=1.0,\n",
    "    eigenvalue=0.5,\n",
    "    seed=42\n",
    ")\n",
    "\n",
    "print(\"Generated temporal data shapes:\")\n",
    "print(f\"  Categorical features: {cat_temporal.shape}\")\n",
    "print(f\"  Continuous features: {cont_temporal.shape}\")\n",
    "print(f\"  Targets: {targets_temporal.shape}\")\n",
    "\n",
    "# Show temporal statistics\n",
    "print(f\"\\nTemporal target statistics:\")\n",
    "print(f\"  Mean: {targets_temporal.mean():.3f}\")\n",
    "print(f\"  Std: {targets_temporal.std():.3f}\")\n",
    "print(f\"  Min: {targets_temporal.min():.3f}\")\n",
    "print(f\"  Max: {targets_temporal.max():.3f}\")"
   ]
  },
  {
   "cell_type": "markdown",
   "metadata": {},
   "source": [
    "## Example 3: Data Preprocessing\n",
    "\n",
    "Prepare train/validation/test datasets from the generated data."
   ]
  },
  {
   "cell_type": "code",
   "execution_count": null,
   "metadata": {},
   "outputs": [],
   "source": [
    "# Prepare datasets\n",
    "train_dataset, val_dataset, test_dataset = prepare_all(\n",
    "    cat_features=cat_temporal,\n",
    "    cont_features=cont_temporal,\n",
    "    targets=targets_temporal,\n",
    "    train_ratio=0.7,\n",
    "    val_ratio=0.15\n",
    ")\n",
    "\n",
    "print(\"Dataset sizes:\")\n",
    "print(f\"  Training: {len(train_dataset)} samples\")\n",
    "print(f\"  Validation: {len(val_dataset)} samples\")\n",
    "print(f\"  Test: {len(test_dataset)} samples\")\n",
    "\n",
    "# Show dataset structure\n",
    "train_cat, train_cont, train_y = train_dataset.tensors\n",
    "print(f\"\\nTraining dataset shapes:\")\n",
    "print(f\"  Categorical: {train_cat.shape}\")\n",
    "print(f\"  Continuous: {train_cont.shape}\")\n",
    "print(f\"  Targets: {train_y.shape}\")"
   ]
  },
  {
   "cell_type": "markdown",
   "metadata": {},
   "source": [
    "## Example 4: Using Utility Metrics\n",
    "\n",
    "Demonstrate the evaluation metrics functions."
   ]
  },
  {
   "cell_type": "code",
   "execution_count": null,
   "metadata": {},
   "outputs": [],
   "source": [
    "# Example matrices for Frobenius norm\n",
    "A = np.random.randn(5, 5)\n",
    "B = np.random.randn(5, 5)\n",
    "fro_norm = frobenius_norm(A, B)\n",
    "print(f\"Frobenius norm between random matrices: {fro_norm:.4f}\")\n",
    "\n",
    "# Example fusion score\n",
    "rmse = 0.5\n",
    "proj_gap = 2.0\n",
    "p = 3\n",
    "fusion = fusion_score(rmse, proj_gap, p)\n",
    "print(f\"Fusion score (RMSE={rmse}, proj_gap={proj_gap}, p={p}): {fusion:.4f}\")\n",
    "\n",
    "# Test with different parameters\n",
    "print(f\"\\nFusion score examples:\")\n",
    "print(f\"  RMSE only: {fusion_score(0.3, None, None):.4f}\")\n",
    "print(f\"  With projection gap: {fusion_score(0.3, 1.5, 5):.4f}\")\n",
    "print(f\"  Zero p: {fusion_score(0.3, 1.5, 0):.4f}\")"
   ]
  },
  {
   "cell_type": "markdown",
   "metadata": {},
   "source": [
    "## Example 5: Extracted Spatial Dependency\n",
    "\n",
    "Demonstrate the shared spatial basis function that both data generators use."
   ]
  },
  {
   "cell_type": "code",
   "execution_count": null,
   "metadata": {},
   "outputs": [],
   "source": [
    "# Import the internal function to demonstrate spatial basis\n",
    "from geospatial_neural_adapter.data.generators import _generate_spatial_basis\n",
    "\n",
    "# Generate spatial basis for visualization\n",
    "spatial_basis = _generate_spatial_basis(locations)\n",
    "\n",
    "print(f\"Spatial basis shape: {spatial_basis.shape}\")\n",
    "print(f\"Spatial basis norm: {np.linalg.norm(spatial_basis):.6f} (should be 1.0)\")\n",
    "\n",
    "# Visualize spatial dependency\n",
    "plt.figure(figsize=(15, 4))\n",
    "\n",
    "plt.subplot(1, 3, 1)\n",
    "plt.plot(locations, spatial_basis.flatten(), 'b-', linewidth=2)\n",
    "plt.title('Spatial Basis Function')\n",
    "plt.xlabel('Location')\n",
    "plt.ylabel('φ(x)')\n",
    "plt.grid(True, alpha=0.3)\n",
    "\n",
    "plt.subplot(1, 3, 2)\n",
    "# Show how spatial dependency affects targets\n",
    "sample_idx = 0\n",
    "plt.scatter(locations, targets[sample_idx, :], alpha=0.6, s=20, label='Targets')\n",
    "plt.plot(locations, 50 + 0.5 * spatial_basis.flatten(), 'r--', linewidth=2, label='Spatial Component')\n",
    "plt.title(f'Spatial Dependency (Sample {sample_idx})')\n",
    "plt.xlabel('Location')\n",
    "plt.ylabel('Target Value')\n",
    "plt.legend()\n",
    "plt.grid(True, alpha=0.3)\n",
    "\n",
    "plt.subplot(1, 3, 3)\n",
    "# Show temporal spatial dependency\n",
    "time_idx = 100\n",
    "plt.scatter(locations, targets_temporal[time_idx, :], alpha=0.6, s=20, label='Temporal Targets')\n",
    "plt.plot(locations, 50 + 0.5 * spatial_basis.flatten(), 'r--', linewidth=2, label='Spatial Component')\n",
    "plt.title(f'Temporal Spatial Dependency (Time {time_idx})')\n",
    "plt.xlabel('Location')\n",
    "plt.ylabel('Target Value')\n",
    "plt.legend()\n",
    "plt.grid(True, alpha=0.3)\n",
    "\n",
    "plt.tight_layout()\n",
    "plt.show()\n",
    "\n",
    "print(\"✅ Spatial dependency extracted and visualized!\")"
   ]
  },
  {
   "cell_type": "code",
   "execution_count": null,
   "metadata": {},
   "outputs": [],
   "source": []
  },
  {
   "cell_type": "markdown",
   "metadata": {},
   "source": [
    "## Example 6: Visualization\n",
    "\n",
    "Create visualizations of the generated data."
   ]
  },
  {
   "cell_type": "code",
   "execution_count": null,
   "metadata": {},
   "outputs": [],
   "source": [
    "# Plot time series for first location\n",
    "plt.figure(figsize=(15, 10))\n",
    "\n",
    "# Plot 1: Temporal target\n",
    "plt.subplot(2, 2, 1)\n",
    "plt.plot(targets_temporal[:, 0], label='Target', alpha=0.7, linewidth=1)\n",
    "plt.title('Temporal Target (Location 0)')\n",
    "plt.xlabel('Time')\n",
    "plt.ylabel('Value')\n",
    "plt.legend()\n",
    "plt.grid(True, alpha=0.3)\n",
    "\n",
    "# Plot 2: Temporal features\n",
    "plt.subplot(2, 2, 2)\n",
    "for i in range(cont_temporal.shape[2]):\n",
    "    plt.plot(cont_temporal[:, 0, i], label=f'Feature {i+1}', alpha=0.7, linewidth=1)\n",
    "plt.title('Temporal Features (Location 0)')\n",
    "plt.xlabel('Time')\n",
    "plt.ylabel('Value')\n",
    "plt.legend()\n",
    "plt.grid(True, alpha=0.3)\n",
    "\n",
    "# Plot 3: Spatial distribution at a specific time\n",
    "plt.subplot(2, 2, 3)\n",
    "time_idx = 100  # Middle of the time series\n",
    "plt.scatter(locations, targets_temporal[time_idx, :], alpha=0.6, s=20)\n",
    "plt.title(f'Spatial Distribution (Time {time_idx})')\n",
    "plt.xlabel('Location')\n",
    "plt.ylabel('Target Value')\n",
    "plt.grid(True, alpha=0.3)\n",
    "\n",
    "# Plot 4: Heatmap of temporal-spatial data\n",
    "plt.subplot(2, 2, 4)\n",
    "im = plt.imshow(targets_temporal.T, aspect='auto', cmap='viridis')\n",
    "plt.colorbar(im, label='Target Value')\n",
    "plt.title('Temporal-Spatial Heatmap')\n",
    "plt.xlabel('Time')\n",
    "plt.ylabel('Location Index')\n",
    "\n",
    "plt.tight_layout()\n",
    "plt.show()"
   ]
  },
  {
   "cell_type": "markdown",
   "metadata": {},
   "source": [
    "## Example 7: Comparison with Combined Data\n",
    "\n",
    "Compare the two different data generation approaches."
   ]
  },
  {
   "cell_type": "code",
   "execution_count": null,
   "metadata": {},
   "outputs": [],
   "source": [
    "# Compare temporal vs combined data\n",
    "plt.figure(figsize=(12, 5))\n",
    "\n",
    "# Plot temporal data (first location)\n",
    "plt.subplot(1, 2, 1)\n",
    "plt.plot(targets_temporal[:, 0], label='Temporal', alpha=0.7, linewidth=1)\n",
    "plt.title('Temporal Data Generation')\n",
    "plt.xlabel('Time')\n",
    "plt.ylabel('Target Value')\n",
    "plt.legend()\n",
    "plt.grid(True, alpha=0.3)\n",
    "\n",
    "# Plot combined data (first sample)\n",
    "plt.subplot(1, 2, 2)\n",
    "plt.plot(targets[0, :], label='Combined', alpha=0.7, linewidth=1)\n",
    "plt.title('Combined Data Generation')\n",
    "plt.xlabel('Location')\n",
    "plt.ylabel('Target Value')\n",
    "plt.legend()\n",
    "plt.grid(True, alpha=0.3)\n",
    "\n",
    "plt.tight_layout()\n",
    "plt.show()\n",
    "\n",
    "# Show key differences\n",
    "print(\"Key differences between data generation approaches:\")\n",
    "print(f\"  Temporal data shape: {targets_temporal.shape}\")\n",
    "print(f\"  Combined data shape: {targets.shape}\")\n",
    "print(f\"  Temporal temporal correlation: {np.corrcoef(targets_temporal[:-1, 0], targets_temporal[1:, 0])[0,1]:.3f}\")\n",
    "print(f\"  Combined spatial correlation: {np.corrcoef(targets[0, :-1], targets[0, 1:])[0,1]:.3f}\")"
   ]
  }
 ],
 "metadata": {
  "kernelspec": {
   "display_name": "geospatial-neural-adapter",
   "language": "python",
   "name": "python3"
  },
  "language_info": {
   "codemirror_mode": {
    "name": "ipython",
    "version": 3
   },
   "file_extension": ".py",
   "mipetype": "text/x-python",
   "name": "python",
   "nbconvert_exporter": "python",
   "pygments_lexer": "ipython3",
   "version": "3.10.13"
  }
 },
 "nbformat": 4,
 "nbformat_minor": 4
}
